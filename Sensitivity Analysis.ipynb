{
 "cells": [
  {
   "cell_type": "code",
   "execution_count": 1,
   "metadata": {},
   "outputs": [],
   "source": [
    "import sensitivity_analysis as sa\n",
    "import capacity_planning as cp\n",
    "import numpy as np\n",
    "import pandas as pd"
   ]
  },
  {
   "cell_type": "code",
   "execution_count": null,
   "metadata": {},
   "outputs": [],
   "source": [
    "# Perform a full factorial experiment on the desired dataset"
   ]
  },
  {
   "cell_type": "code",
   "execution_count": 2,
   "metadata": {},
   "outputs": [
    {
     "name": "stdout",
     "output_type": "stream",
     "text": [
      "[**************************************************] 100%"
     ]
    }
   ],
   "source": [
    "baseline = {\n",
    "    'alpha' : 0.2, # define the train test split (alpha specifies percentage of data for train)\n",
    "    'init_cap_idx' : 20, # Currently I am using this to say initial capacity is = to the demand 20 weeks from now.\n",
    "    'numsims': 100, # how many simulations to do at every week when performing this experiment. \n",
    "}\n",
    "\n",
    "filepath = '02-CPlan_US6.xlsx'\n",
    "lead_times = [-4, 0] # specify lower and upper bounds on how much the lead time should vary\n",
    "buffers = [0 , 250] # do the same for minimum buffer\n",
    "target_csls = [0.99, 0.95] # lower and upper bound for target csl\n",
    "ub_racks = [5, 1] # lower and upper bound for racks\n",
    "\n",
    "sense_df = sa.sensitivity_values(filepath, baseline, lead_times, buffers, target_csls, ub_racks, to_csv = False, csv_name = None)"
   ]
  },
  {
   "cell_type": "code",
   "execution_count": 3,
   "metadata": {},
   "outputs": [],
   "source": [
    "# Analyze the experiment"
   ]
  },
  {
   "cell_type": "code",
   "execution_count": 4,
   "metadata": {},
   "outputs": [
    {
     "name": "stdout",
     "output_type": "stream",
     "text": [
      "Regression Results: \n",
      "\n",
      "                            OLS Regression Results                            \n",
      "==============================================================================\n",
      "Dep. Variable:               avg_util   R-squared:                       0.799\n",
      "Model:                            OLS   Adj. R-squared:                  0.725\n",
      "Method:                 Least Squares   F-statistic:                     10.90\n",
      "Date:                Sat, 16 Mar 2019   Prob (F-statistic):           0.000803\n",
      "Time:                        20:46:34   Log-Likelihood:                 54.626\n",
      "No. Observations:                  16   AIC:                            -99.25\n",
      "Df Residuals:                      11   BIC:                            -95.39\n",
      "Df Model:                           4                                         \n",
      "Covariance Type:            nonrobust                                         \n",
      "=================================================================================\n",
      "                    coef    std err          t      P>|t|      [0.025      0.975]\n",
      "---------------------------------------------------------------------------------\n",
      "Intercept         1.4848      0.117     12.738      0.000       1.228       1.741\n",
      "minbuffer      2.451e-05   1.92e-05      1.277      0.228   -1.78e-05    6.68e-05\n",
      "lead_time_dif    -0.0007      0.001     -0.588      0.568      -0.003       0.002\n",
      "target_csl_      -0.6797      0.120     -5.663      0.000      -0.944      -0.416\n",
      "max_racks_       -0.0037      0.001     -3.092      0.010      -0.006      -0.001\n",
      "==============================================================================\n",
      "Omnibus:                        1.607   Durbin-Watson:                   2.468\n",
      "Prob(Omnibus):                  0.448   Jarque-Bera (JB):                0.983\n",
      "Skew:                           0.596   Prob(JB):                        0.612\n",
      "Kurtosis:                       2.770   Cond. No.                     1.23e+04\n",
      "==============================================================================\n",
      "\n",
      "Warnings:\n",
      "[1] Standard Errors assume that the covariance matrix of the errors is correctly specified.\n",
      "[2] The condition number is large, 1.23e+04. This might indicate that there are\n",
      "strong multicollinearity or other numerical problems.\n",
      "\n",
      "Standardized Regression Results: \n",
      "\n",
      "                            OLS Regression Results                            \n",
      "==============================================================================\n",
      "Dep. Variable:               avg_util   R-squared:                       0.799\n",
      "Model:                            OLS   Adj. R-squared:                  0.725\n",
      "Method:                 Least Squares   F-statistic:                     10.90\n",
      "Date:                Sat, 16 Mar 2019   Prob (F-statistic):           0.000803\n",
      "Time:                        20:46:34   Log-Likelihood:                -9.8851\n",
      "No. Observations:                  16   AIC:                             29.77\n",
      "Df Residuals:                      11   BIC:                             33.63\n",
      "Df Model:                           4                                         \n",
      "Covariance Type:            nonrobust                                         \n",
      "=================================================================================\n",
      "                    coef    std err          t      P>|t|      [0.025      0.975]\n",
      "---------------------------------------------------------------------------------\n",
      "Intercept      1.021e-14      0.135   7.55e-14      1.000      -0.298       0.298\n",
      "minbuffer         0.1727      0.135      1.277      0.228      -0.125       0.471\n",
      "lead_time_dif    -0.0796      0.135     -0.588      0.568      -0.377       0.218\n",
      "target_csl_      -0.7663      0.135     -5.663      0.000      -1.064      -0.468\n",
      "max_racks_       -0.4185      0.135     -3.092      0.010      -0.716      -0.121\n",
      "==============================================================================\n",
      "Omnibus:                        1.607   Durbin-Watson:                   2.468\n",
      "Prob(Omnibus):                  0.448   Jarque-Bera (JB):                0.983\n",
      "Skew:                           0.596   Prob(JB):                        0.612\n",
      "Kurtosis:                       2.770   Cond. No.                         1.00\n",
      "==============================================================================\n",
      "\n",
      "Warnings:\n",
      "[1] Standard Errors assume that the covariance matrix of the errors is correctly specified.\n"
     ]
    }
   ],
   "source": [
    "sa.analysis(sense_df)"
   ]
  },
  {
   "cell_type": "code",
   "execution_count": null,
   "metadata": {},
   "outputs": [],
   "source": []
  }
 ],
 "metadata": {
  "kernelspec": {
   "display_name": "Python 3",
   "language": "python",
   "name": "python3"
  },
  "language_info": {
   "codemirror_mode": {
    "name": "ipython",
    "version": 3
   },
   "file_extension": ".py",
   "mimetype": "text/x-python",
   "name": "python",
   "nbconvert_exporter": "python",
   "pygments_lexer": "ipython3",
   "version": "3.5.5"
  }
 },
 "nbformat": 4,
 "nbformat_minor": 2
}
